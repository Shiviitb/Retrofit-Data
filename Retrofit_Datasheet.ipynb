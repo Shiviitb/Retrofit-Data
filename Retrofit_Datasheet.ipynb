{
  "nbformat": 4,
  "nbformat_minor": 0,
  "metadata": {
    "colab": {
      "provenance": [],
      "include_colab_link": true
    },
    "kernelspec": {
      "name": "python3",
      "display_name": "Python 3"
    },
    "language_info": {
      "name": "python"
    }
  },
  "cells": [
    {
      "cell_type": "markdown",
      "metadata": {
        "id": "view-in-github",
        "colab_type": "text"
      },
      "source": [
        "<a href=\"https://colab.research.google.com/github/Shiviitb/Retrofit-Data/blob/main/Retrofit_Datasheet.ipynb\" target=\"_parent\"><img src=\"https://colab.research.google.com/assets/colab-badge.svg\" alt=\"Open In Colab\"/></a>"
      ]
    },
    {
      "cell_type": "code",
      "execution_count": null,
      "metadata": {
        "colab": {
          "base_uri": "https://localhost:8080/",
          "height": 35
        },
        "id": "c9X_emXCn6zz",
        "outputId": "214f3b94-8938-499e-f692-13b1d311efae"
      },
      "outputs": [
        {
          "output_type": "stream",
          "name": "stdout",
          "text": [
            "Webpage created successfully: 'excel_data.html'\n"
          ]
        },
        {
          "output_type": "display_data",
          "data": {
            "text/plain": [
              "<IPython.core.display.Javascript object>"
            ],
            "application/javascript": [
              "\n",
              "    async function download(id, filename, size) {\n",
              "      if (!google.colab.kernel.accessAllowed) {\n",
              "        return;\n",
              "      }\n",
              "      const div = document.createElement('div');\n",
              "      const label = document.createElement('label');\n",
              "      label.textContent = `Downloading \"${filename}\": `;\n",
              "      div.appendChild(label);\n",
              "      const progress = document.createElement('progress');\n",
              "      progress.max = size;\n",
              "      div.appendChild(progress);\n",
              "      document.body.appendChild(div);\n",
              "\n",
              "      const buffers = [];\n",
              "      let downloaded = 0;\n",
              "\n",
              "      const channel = await google.colab.kernel.comms.open(id);\n",
              "      // Send a message to notify the kernel that we're ready.\n",
              "      channel.send({})\n",
              "\n",
              "      for await (const message of channel.messages) {\n",
              "        // Send a message to notify the kernel that we're ready.\n",
              "        channel.send({})\n",
              "        if (message.buffers) {\n",
              "          for (const buffer of message.buffers) {\n",
              "            buffers.push(buffer);\n",
              "            downloaded += buffer.byteLength;\n",
              "            progress.value = downloaded;\n",
              "          }\n",
              "        }\n",
              "      }\n",
              "      const blob = new Blob(buffers, {type: 'application/binary'});\n",
              "      const a = document.createElement('a');\n",
              "      a.href = window.URL.createObjectURL(blob);\n",
              "      a.download = filename;\n",
              "      div.appendChild(a);\n",
              "      a.click();\n",
              "      div.remove();\n",
              "    }\n",
              "  "
            ]
          },
          "metadata": {}
        },
        {
          "output_type": "display_data",
          "data": {
            "text/plain": [
              "<IPython.core.display.Javascript object>"
            ],
            "application/javascript": [
              "download(\"download_8acd92f4-124e-42ed-be62-6f6511a9f37e\", \"excel_data.html\", 182209)"
            ]
          },
          "metadata": {}
        }
      ],
      "source": [
        "import pandas as pd\n",
        "\n",
        "# Step 1: Read data from Excel\n",
        "excel_file = '/content/RETROFIT STRATEGIES CLIMATE CLASSIFICATION 2024.09.03.xlsx'  # Your Excel file\n",
        "sheet_name = 'Retrofit Database'     # Your sheet name\n",
        "\n",
        "try:\n",
        "    df = pd.read_excel(excel_file, sheet_name=sheet_name)\n",
        "\n",
        "    # Step 2: Convert DataFrame to HTML\n",
        "    html_table = df.to_html(index=False)\n",
        "\n",
        "    # Step 3: Write HTML to a file\n",
        "    html_content = f\"\"\"\n",
        "    <html>\n",
        "    <head>\n",
        "        <title>Excel Data</title>\n",
        "        <style>\n",
        "            table {{\n",
        "                width: 80%;\n",
        "                border-collapse: collapse;\n",
        "                margin: 20px auto;\n",
        "            }}\n",
        "            th, td {{\n",
        "                border: 1px solid #ddd;\n",
        "                padding: 8px;\n",
        "                text-align: center;\n",
        "            }}\n",
        "            th {{\n",
        "                background-color: #f2f2f2;\n",
        "            }}\n",
        "        </style>\n",
        "    </head>\n",
        "    <body>\n",
        "        <h2 style=\"text-align:center;\">Excel Data Published on Webpage</h2>\n",
        "        {html_table}\n",
        "    </body>\n",
        "    </html>\n",
        "    \"\"\"\n",
        "\n",
        "    # Save the HTML content to a file\n",
        "    with open('excel_data.html', 'w', encoding='utf-8') as f:\n",
        "        f.write(html_content)\n",
        "\n",
        "    print(\"Webpage created successfully: 'excel_data.html'\")\n",
        "\n",
        "except Exception as e:\n",
        "    print(f\"Error: {e}\")\n",
        "\n",
        "from google.colab import files\n",
        "files.download('excel_data.html')"
      ]
    }
  ]
}